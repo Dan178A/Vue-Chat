{
  "nbformat": 4,
  "nbformat_minor": 0,
  "metadata": {
    "colab": {
      "provenance": []
    },
    "kernelspec": {
      "name": "python3",
      "display_name": "Python 3"
    },
    "language_info": {
      "name": "python"
    }
  },
  "cells": [
    {
      "cell_type": "markdown",
      "source": [
        "# **Morfología de Zarigüeyas Australianas**"
      ],
      "metadata": {
        "id": "mlnkesI5AzS8"
      }
    },
    {
      "cell_type": "markdown",
      "source": [
        "### Importando librerías necesarias"
      ],
      "metadata": {
        "id": "u0UeqNVvBKRj"
      }
    },
    {
      "cell_type": "code",
      "execution_count": null,
      "metadata": {
        "id": "1rbSXpJk0cW3"
      },
      "outputs": [],
      "source": [
        "import numpy as np\n",
        "import pandas as pd\n",
        "import matplotlib.pyplot as plt\n",
        "import seaborn as sns\n",
        "from sklearn.linear_model import LogisticRegression\n",
        "from sklearn.model_selection import train_test_split\n",
        "from sklearn.metrics import classification_report, confusion_matrix, accuracy_score, f1_score, roc_curve, roc_auc_score"
      ]
    },
    {
      "cell_type": "markdown",
      "source": [
        "### Cargando la data"
      ],
      "metadata": {
        "id": "D8gXzV46DXW5"
      }
    },
    {
      "cell_type": "code",
      "source": [
        "# Leyendo la data en un Panda Dataframe\n",
        "data = pd.read_csv('possum.csv')"
      ],
      "metadata": {
        "id": "T07Ku5U60gS4"
      },
      "execution_count": null,
      "outputs": []
    },
    {
      "cell_type": "code",
      "source": [
        "# Revisando las primeras 5 filas\n",
        "data.head()"
      ],
      "metadata": {
        "id": "ZUwbSLND1Cpe"
      },
      "execution_count": null,
      "outputs": []
    },
    {
      "cell_type": "code",
      "source": [
        "# Revisando las dimensiones de la data: cuántas filas (observaciones) x cuántas columnas (variables)\n",
        "data.shape"
      ],
      "metadata": {
        "id": "kZ-CFbvKQtKk"
      },
      "execution_count": null,
      "outputs": []
    },
    {
      "cell_type": "code",
      "source": [
        "# Revisando los tipos de variables\n",
        "data.info()"
      ],
      "metadata": {
        "id": "Au5HCj9BRJ31"
      },
      "execution_count": null,
      "outputs": []
    },
    {
      "cell_type": "markdown",
      "source": [
        "### <u>**Comentario:**</u>\n",
        "#### 104 Observaciones de 14 variables, 4 categóricas (nominales) y 10 numéricas (proporciones).\n",
        "#### Las variables Edad ('age') y Longitud del Pie ('footlgth') contienen valores nulos (*missing value*, NaN) que deberán ser eliminados durante EDA.\n",
        "#### Se busca predecir la variable \"sex\" en términos de otras variables biométricas."
      ],
      "metadata": {
        "id": "8guztqFOrFBO"
      }
    },
    {
      "cell_type": "markdown",
      "source": [
        "## **Explorando la data**"
      ],
      "metadata": {
        "id": "pKcL06NwDy8g"
      }
    },
    {
      "cell_type": "code",
      "source": [
        "# Elimando observaciones con valores nulos.\n",
        "# inplace=True para que se modifique internamente el DataFrame\n",
        "data.dropna(inplace=True)"
      ],
      "metadata": {
        "id": "6E-jQVO2usE6"
      },
      "execution_count": null,
      "outputs": []
    },
    {
      "cell_type": "code",
      "source": [
        "data.shape"
      ],
      "metadata": {
        "id": "QLoodZR4wdav"
      },
      "execution_count": null,
      "outputs": []
    },
    {
      "cell_type": "markdown",
      "source": [
        "### <u>**Comentario:**</u>\n",
        "#### Después de eliminar las observaaciones con valores faltantes, el dataset queda con 101 observaciones."
      ],
      "metadata": {
        "id": "FRROoTkbHBV7"
      }
    },
    {
      "cell_type": "code",
      "source": [
        "# Estadística descriptiva de la data\n",
        "data.describe()"
      ],
      "metadata": {
        "id": "hrfabjSBSe2d"
      },
      "execution_count": null,
      "outputs": []
    },
    {
      "cell_type": "code",
      "source": [
        "# Distribución de las variables categóricas\n",
        "data.describe(include='object')"
      ],
      "metadata": {
        "id": "MP32c0becbdx"
      },
      "execution_count": null,
      "outputs": []
    },
    {
      "cell_type": "code",
      "source": [
        "# Visualizando la distribución de la variable a predecir: \"sex\"\n",
        "sns.set_style(\"darkgrid\")\n",
        "sns.histplot(data['sex'], stat='percent', color='olivedrab', shrink=0.9).set(title=\"Distribución de Sexo\")\n",
        "plt.show()"
      ],
      "metadata": {
        "id": "fI-Tu-KsW467"
      },
      "execution_count": null,
      "outputs": []
    },
    {
      "cell_type": "code",
      "source": [
        "# Determinar balance de la variable a predecir.\n",
        "data['sex'].value_counts(normalize=True)"
      ],
      "metadata": {
        "id": "Ff2fqueqdlXg"
      },
      "execution_count": null,
      "outputs": []
    },
    {
      "cell_type": "markdown",
      "source": [
        "<u>**Comentario:**</u> La variable a predecir, \"sex\", presenta buen balance: 59% m vs. 41% f."
      ],
      "metadata": {
        "id": "CLcEREJ4vWAv"
      }
    },
    {
      "cell_type": "markdown",
      "source": [
        "### **Distribuciones de algunas variables selectas, estratificadas por la variable a predecir: 'sex'**"
      ],
      "metadata": {
        "id": "-9nHRIa-LahJ"
      }
    },
    {
      "cell_type": "code",
      "source": [
        "# Distribución de la variable 'Pop'\n",
        "sns.set_style(\"whitegrid\")\n",
        "sns.histplot(data, x='Pop', stat='percent', shrink=0.9, hue='sex', palette='Set1', alpha=0.5)\n",
        "plt.show()"
      ],
      "metadata": {
        "id": "uCtjervTeETC"
      },
      "execution_count": null,
      "outputs": []
    },
    {
      "cell_type": "code",
      "source": [
        "# Solo para visualizar las proporciones conjuntas. Esta celda la puede borrar.\n",
        "data[['Pop', 'sex']].value_counts(sort=False, normalize=True)"
      ],
      "metadata": {
        "id": "2L-wZX7HeE2n"
      },
      "execution_count": null,
      "outputs": []
    },
    {
      "cell_type": "code",
      "source": [
        "# Mostrando distribución conjunta de todos los pares de variables numéricas.\n",
        "sns.pairplot(data[['age','hdlngth','skullw','totlngth','taill','footlgth','earconch','eye','chest','belly','sex']], kind='reg', hue='sex', corner=True)"
      ],
      "metadata": {
        "id": "EDMObeWWYplq"
      },
      "execution_count": null,
      "outputs": []
    },
    {
      "cell_type": "markdown",
      "source": [
        "<u>**Comentario:**</u> Las variables \"case\", \"site\" y \"Pop\" no serán usadas como predictores. Todas las demás variables biométricas: ['age','hdlngth','skullw','totlngth','taill','footlgth','earconch','eye','chest','belly'] serán usadas como predictores para la variable \"sex\"."
      ],
      "metadata": {
        "id": "t07nGe5JzG0V"
      }
    },
    {
      "cell_type": "markdown",
      "source": [
        "### Ejemplos de distribuciones de algunos predictores"
      ],
      "metadata": {
        "id": "ZVXtEI2HjTGf"
      }
    },
    {
      "cell_type": "code",
      "source": [
        "# Distribución conjunta de Edad ('age') vs. Ancho del Cráneo ('skullw'), estratificada por Sexo ('sex')\n",
        "sns.jointplot(data, x='age', y='skullw', hue='sex', palette='Set1', kind='scatter')\n",
        "plt.show()"
      ],
      "metadata": {
        "id": "b0K8BIA5Q6f0"
      },
      "execution_count": null,
      "outputs": []
    },
    {
      "cell_type": "code",
      "source": [
        "# Quedan estas celdas solo de referencia, en caso de que prefiera usar estos tipos de gráficos.\n",
        "# Borre estas celdas si no serán usadas en su historia de datos final.\n",
        "\n",
        "# Distribución de las variables Edad ('age') y Ancho del Cráneo ('skullw'), estratificada por Sexo ('sex')\n",
        "sns.set_style(\"darkgrid\")\n",
        "f, axs = plt.subplots(ncols=2, sharey=True)\n",
        "sns.histplot(data, x='age',    stat='density', kde=True, hue='sex', palette='Set1', alpha=0.5, ax=axs[0])\n",
        "sns.histplot(data, x='skullw', stat='density', kde=True, hue='sex', palette='Set1', alpha=0.5, ax=axs[1])\n",
        "plt.show()"
      ],
      "metadata": {
        "id": "HMWhPvPPeFGO"
      },
      "execution_count": null,
      "outputs": []
    },
    {
      "cell_type": "code",
      "source": [
        "# Quedan estas celdas solo de referencia, en caso de que prefiera usar estos tipos de gráficos.\n",
        "# Borre estas celdas si no serán usadas en su historia de datos final.\n",
        "\n",
        "# Distribución conjunta de las variables Edad ('age') y Ancho del Cráneo ('skullw'), estratificada por Sexo ('sex')\n",
        "# Puede mostrar solo una distribución conjunta para cada par seleccionado para los ejemplos. La celda restante la puede borrar.\n",
        "sns.set_style(\"whitegrid\")\n",
        "f, axs = plt.subplots(ncols=2, sharey=True)\n",
        "sns.histplot(data, x='age', y='skullw', hue='sex', palette='Set1', alpha=1, ax=axs[0])\n",
        "sns.kdeplot( data, x='age', y='skullw', hue='sex', palette='Set1', alpha=1, ax=axs[1])\n",
        "plt.show()"
      ],
      "metadata": {
        "id": "x76Jo44LfJ_e"
      },
      "execution_count": null,
      "outputs": []
    },
    {
      "cell_type": "code",
      "source": [
        "# Quedan estas celdas solo de referencia, en caso de que prefiera usar estos tipos de gráficos.\n",
        "# Borre estas celdas si no serán usadas en su historia de datos final.\n",
        "\n",
        "sns.lmplot(data, x='age', y='skullw', hue='sex', palette='Set1')\n",
        "plt.show()"
      ],
      "metadata": {
        "id": "snUC5ObzfPXJ"
      },
      "execution_count": null,
      "outputs": []
    },
    {
      "cell_type": "markdown",
      "source": [
        "## **Entrenamiento del Modelo**"
      ],
      "metadata": {
        "id": "7reOT1ict8hb"
      }
    },
    {
      "cell_type": "markdown",
      "source": [
        "### **One-Hot Encoding**\n",
        "\n",
        "% El contenido debajo queda solo como explicación. Bórrelo para la historia de datos final.\n",
        "\n",
        "#### *Dummy Variables* (variables ficticias)\n",
        "```\n",
        "Etiqueta = [yes, no]\n",
        "      Etiqueta_yes, Etiqueta_no\n",
        "yes        1           0\n",
        "no         0           1\n",
        "\n",
        "     Etiqueta_yes\n",
        "yes      1\n",
        "no       0\n",
        "\n",
        "Semaforo: Sem = [v, a, r]\n",
        "  Sem_v Sem_a Sem_r\n",
        "v    1    0    0\n",
        "a    0    1    0\n",
        "r    0    0    1\n",
        "\n",
        "  Sem_v Sem_a\n",
        "v    1    0\n",
        "a    0    1\n",
        "r    0    0\n",
        "\n",
        "```\n",
        "\n",
        "\n"
      ],
      "metadata": {
        "id": "5rYYDGGIl_vl"
      }
    },
    {
      "cell_type": "code",
      "source": [
        "# Preparación y separación de la data en entrenamiento y prueba\n",
        "X = data[['age', 'hdlngth','skullw','totlngth','taill', 'footlgth', 'earconch','eye','chest','belly']]\n",
        "N = X.shape[0]\n",
        "# Se utiliza one-hot encoding para la variable a predecir.\n",
        "# La nueva variable a predecir es ahora sex_m = 1 si el sexo de la zarigüeya es macho, 0 si es hembra.\n",
        "y = pd.get_dummies(data['sex'], drop_first=True).values.reshape(N,)"
      ],
      "metadata": {
        "id": "y5BPqlVapkmP"
      },
      "execution_count": null,
      "outputs": []
    },
    {
      "cell_type": "code",
      "source": [
        "X_train, X_test, y_train, y_test = train_test_split(X, y, train_size=0.8, random_state=42)\n",
        "print(\"Tamaño de Entrenamiento = {}\".format(X_train.shape))\n",
        "print(\"Tamaño de Test          = {}\".format(X_test.shape))"
      ],
      "metadata": {
        "id": "IAJYycrWn4CJ"
      },
      "execution_count": null,
      "outputs": []
    },
    {
      "cell_type": "code",
      "source": [
        "# Pruebe primero con los valores por defecto. Si recibe errores o warnings de no convergencia,\n",
        "# cambie los parámetros listados debajo: tol entre 0.01 y 0.0001; max_iter entre 1000 - 1000000.\n",
        "# Recuerde el random_state para reproducibilidad.\n",
        "modelo = LogisticRegression(solver='liblinear', tol=0.0001, max_iter=1000000, random_state=42)\n",
        "modelo.fit(X_train, y_train)"
      ],
      "metadata": {
        "id": "dHd6YnubIkuE"
      },
      "execution_count": null,
      "outputs": []
    },
    {
      "cell_type": "code",
      "source": [
        "# Imprimiendo el modelo resultante\n",
        "print(\"Coeficientes del modelo = {}\\nIntercepto del modelo = {}\".format(modelo.coef_, modelo.intercept_))"
      ],
      "metadata": {
        "id": "wb8EFglnv_qg"
      },
      "execution_count": null,
      "outputs": []
    },
    {
      "cell_type": "markdown",
      "source": [
        "#<u>***Modelo resultante:***</u>\n",
        "$$\n",
        "SexoM =  \\frac{\\mathrm{1} }{\\mathrm{1} + e^{-[+0.06\\cdot{age}\n",
        "+0.16\\cdot{hdlngth}\n",
        "+0.10\\cdot{skullw}\n",
        "-0.24\\cdot{totlngth}\n",
        "-0.03\\cdot{taill}\n",
        "+0.06\\cdot{footlgth}\n",
        "-0.07\\cdot{earconch}\n",
        "+0.45\\cdot{eye}\n",
        "-0.10\\cdot{chest}\n",
        "-0.11\\cdot{belly}\n",
        "-0.09]} }\n",
        "$$"
      ],
      "metadata": {
        "id": "i508W0A7IJEf"
      }
    },
    {
      "cell_type": "code",
      "source": [
        "# Evaluando el modelo con data de entrenamiento\n",
        "acc_train = modelo.score(X_train, y_train)\n",
        "print(\"Desempeño en Entrenmiento: Accuracy = {:.5f}\".format(acc_train))"
      ],
      "metadata": {
        "id": "3AvtaNEy7-EO"
      },
      "execution_count": null,
      "outputs": []
    },
    {
      "cell_type": "code",
      "source": [
        "# Evaluando el modelo con data de prueba\n",
        "acc_test = modelo.score(X_test, y_test)\n",
        "print(\"Desempeño en Prueba: Accuracy = {:.5f}\".format(acc_test))"
      ],
      "metadata": {
        "id": "gAETvvj-MfBX"
      },
      "execution_count": null,
      "outputs": []
    },
    {
      "cell_type": "code",
      "source": [
        "# Prediciendo probabilidad en data de prueba\n",
        "# Esta función devuelve dos columnas: la probabilidad para la clase 0 (f) y la probabilidad para la clase 1 (m)\n",
        "y_test_predicted = modelo.predict_proba(X_test)\n",
        "y_test_predicted"
      ],
      "metadata": {
        "id": "eRovbwcliBzN"
      },
      "execution_count": null,
      "outputs": []
    },
    {
      "cell_type": "code",
      "source": [
        "# Prediciendo clase en data de prueba\n",
        "# Esta función devuelve la clase: 1 si su predict_proba para clase 1 es >=0.5\n",
        "y_test_predicted = modelo.predict(X_test)\n",
        "y_test_predicted"
      ],
      "metadata": {
        "id": "qe-H9Trf0uRx"
      },
      "execution_count": null,
      "outputs": []
    },
    {
      "cell_type": "code",
      "source": [
        "# Matriz de Confusión en prueba\n",
        "# Debe recibir y_test_predicted con modelo.predict y no con modelo.predict_proba\n",
        "confusion_matrix(y_test, y_test_predicted)"
      ],
      "metadata": {
        "id": "6mTolB29NX8P"
      },
      "execution_count": null,
      "outputs": []
    },
    {
      "cell_type": "code",
      "source": [
        "# Reporte de Clasificación para Prueba\n",
        "print(classification_report(y_test, y_test_predicted))"
      ],
      "metadata": {
        "id": "sfQHgtrt0WsN"
      },
      "execution_count": null,
      "outputs": []
    },
    {
      "cell_type": "code",
      "source": [
        "print(\"Accuracy = \",accuracy_score(y_test, y_test_predicted))\n",
        "print(\"F1-Score = \",f1_score(y_test, y_test_predicted))"
      ],
      "metadata": {
        "id": "uqZ8t5p91MxE"
      },
      "execution_count": null,
      "outputs": []
    },
    {
      "cell_type": "code",
      "source": [
        "# Usando el modelo para predecir data nueva\n",
        "# Se han recibido los siguientes datos biométricos de tres zarigüeyas y se quiere estimar si son machos o hembras\n",
        "prueba = pd.DataFrame(np.array([[2,\t 80, 50, 75, 32, 63, 40, 10, 22, 25],\n",
        "                                [4,  92, 53, 86, 37, 63, 48, 15, 27, 34],\n",
        "                                [8, 100, 68, 95, 43, 78, 56, 18, 32, 40]]),\n",
        "                      columns=['age', 'hdlngth','skullw','totlngth','taill', 'footlgth', 'earconch','eye','chest','belly'])\n",
        "pred_proba = modelo.predict_proba(prueba)[:,1]\n",
        "pred_clase = modelo.predict(prueba)\n",
        "prueba['Sexo_M_Probable'] = pred_proba\n",
        "prueba['Sexo_M_Estimado'] = pred_clase\n",
        "prueba"
      ],
      "metadata": {
        "id": "SNkpwbHg4b4n"
      },
      "execution_count": null,
      "outputs": []
    },
    {
      "cell_type": "markdown",
      "source": [
        "# <u>Conclusión y recomendación:</u>\n",
        "## El modelo mostrado fue entrenado con una separación de 80%/20% de entrenamiento/prueba, obteniendo una métrica de evaluación:\n",
        "$$ Accuracy = 57,14% $$\n",
        "$$ F1-Score = 57,14% $$\n",
        "## Se recomienda <u>no enviar a producción.</u>\n",
        "## Es posible que el bajo desempeño se deba al tamaño del dataset. Se recomienda usar algoritmos distintos de clasificación y obtener más datos."
      ],
      "metadata": {
        "id": "vHg6JW3QNV2k"
      }
    },
    {
      "cell_type": "markdown",
      "source": [
        "## **INFORMACIÓN EXTRA**\n",
        "No es necesario incluirlo en su entrega.\n",
        "(Recuerde borrar todas celdas y comentarios que no sean finales a su entrega)."
      ],
      "metadata": {
        "id": "p_KGzqY3s5Vt"
      }
    },
    {
      "cell_type": "code",
      "source": [
        "# Este método ayuda a calcular una aproximación de la importancia de las variables.\n",
        "# Su precisión depende de los rangos de valores y unidades de las variables: si son el mismo o comparables, la importancia estimada es bastante acertada.\n",
        "# Si las variables están en rangos muy disparejos o en unidades distintas, este método debe sustituirse por otro método estadístico de entrenamiento con escalamiento y normalización de variables\n",
        "# Esta información puede ser útil para explorar otras iteraciones de entrenamiento seleccionando solo las variables más importantes.\n",
        "# A diferencia de regresión lineal o polinomial, más variables no necesariamente mejora el desempeño del modelo.\n",
        "np.abs(np.std(X_train)*modelo.coef_[0]).sort_values(ascending=True).plot(kind='barh')"
      ],
      "metadata": {
        "id": "jQrx72IHt0jz"
      },
      "execution_count": null,
      "outputs": []
    },
    {
      "cell_type": "code",
      "source": [
        "# Este método calcula la curva ROC y el área bajo la curva: AUC\n",
        "# Esta métrica es robusta y hasta preferible en la mayoría de los casos de clasificación, especialmente ante desbalance de clases.\n",
        "y_test_proba = modelo.predict_proba(X_test)[:,1]\n",
        "fpr, tpr, _ = roc_curve(y_test, y_test_proba)\n",
        "auc = roc_auc_score(y_test, y_test_proba)\n",
        "\n",
        "plt.plot(fpr,tpr, 'b', label='AUC = %0.4f' % auc)\n",
        "plt.legend(loc='lower right')\n",
        "plt.plot([0, 1], [0, 1],'r--')\n",
        "plt.title('Curva ROC')\n",
        "plt.ylabel('Tasa de Verdaderos Positivos')\n",
        "plt.xlabel('Tasa de Falsos Positivos')\n",
        "plt.show()\n",
        "\n"
      ],
      "metadata": {
        "id": "pOVjbfkIv331"
      },
      "execution_count": null,
      "outputs": []
    },
    {
      "cell_type": "code",
      "source": [],
      "metadata": {
        "id": "ZD3Ljgkn393G"
      },
      "execution_count": null,
      "outputs": []
    }
  ]
}